{
 "cells": [
  {
   "cell_type": "markdown",
   "metadata": {},
   "source": [
    "## Collect cpi data"
   ]
  },
  {
   "cell_type": "code",
   "execution_count": 2,
   "metadata": {},
   "outputs": [],
   "source": [
    "import datetime\n",
    "import plotly.express as px\n",
    "import pyfredapi as pf\n",
    "from rich import print as rprint\n",
    "from rich.console import Console\n",
    "\n",
    "console = Console()"
   ]
  },
  {
   "cell_type": "code",
   "execution_count": null,
   "metadata": {},
   "outputs": [],
   "source": []
  },
  {
   "cell_type": "code",
   "execution_count": 3,
   "metadata": {},
   "outputs": [],
   "source": [
    "cpi_series = [\n",
    "    \"CPIAUCSL\",\n",
    "    \"CPIUFDSL\",\n",
    "    \"CUSR0000SAF11\",\n",
    "    \"CUSR0000SEFV\",\n",
    "    \"CPIENGSL\",\n",
    "    \"CUSR0000SETB01\",\n",
    "    \"CUUR0000SEHE\",\n",
    "    \"CUSR0000SEHF\",\n",
    "    \"CUSR0000SEHF01\",\n",
    "    \"CUSR0000SEHF02\",\n",
    "    \"CPILFESL\",\n",
    "    \"CUSR0000SACL1E\",\n",
    "    \"CUSR0000SETA01\",\n",
    "    \"CUSR0000SETA02\",\n",
    "    \"CPIAPPSL\",\n",
    "    \"CUUR0000SAM1\",\n",
    "    \"CUSR0000SASLE\",\n",
    "    \"CPIMEDSL\",\n",
    "    \"CUSR0000SEEA\",\n",
    "    \"CUSR0000SEEB\",\n",
    "    \"CUSR0000SEHA\",\n",
    "    \"CUSR0000SEHC\",\n",
    "]\n",
    "\n",
    "series_column_name = \"cpi_series\""
   ]
  },
  {
   "cell_type": "code",
   "execution_count": 4,
   "metadata": {},
   "outputs": [],
   "source": [
    "def parse_title(title: str) -> str:\n",
    "    \"\"\"Function to parse a CPI series title into a human readable label.\"\"\"\n",
    "    return (\n",
    "        title.lower()\n",
    "        .replace(\"consumer price index for all urban consumers: \", \"\")\n",
    "        .replace(\" in u.s. city average\", \"\")\n",
    "        .capitalize()\n",
    "    )"
   ]
  },
  {
   "cell_type": "code",
   "execution_count": 5,
   "metadata": {},
   "outputs": [
    {
     "name": "stdout",
     "output_type": "stream",
     "text": [
      "Requesting series CPIAUCSL...\n",
      "Requesting series CPIUFDSL...\n",
      "Requesting series CUSR0000SAF11...\n",
      "Requesting series CUSR0000SEFV...\n",
      "Requesting series CPIENGSL...\n",
      "Requesting series CUSR0000SETB01...\n",
      "Requesting series CUUR0000SEHE...\n",
      "Requesting series CUSR0000SEHF...\n",
      "Requesting series CUSR0000SEHF01...\n",
      "Requesting series CUSR0000SEHF02...\n",
      "Requesting series CPILFESL...\n",
      "Requesting series CUSR0000SACL1E...\n",
      "Requesting series CUSR0000SETA01...\n",
      "Requesting series CUSR0000SETA02...\n",
      "Requesting series CPIAPPSL...\n",
      "Requesting series CUUR0000SAM1...\n",
      "Requesting series CUSR0000SASLE...\n",
      "Requesting series CPIMEDSL...\n",
      "Requesting series CUSR0000SEEA...\n",
      "Requesting series CUSR0000SEEB...\n",
      "Requesting series CUSR0000SEHA...\n",
      "Requesting series CUSR0000SEHC...\n"
     ]
    }
   ],
   "source": [
    "cpi_sc = pf.SeriesCollection()\n",
    "cpi_sc.add_series(series_ids=cpi_series, rename=parse_title)"
   ]
  },
  {
   "cell_type": "code",
   "execution_count": 6,
   "metadata": {},
   "outputs": [],
   "source": [
    "long_df = cpi_sc.merge_long(col_name=series_column_name)\n",
    "wide_df = cpi_sc.merge_asof(base_series_id=\"CPIAUCSL\")"
   ]
  },
  {
   "cell_type": "code",
   "execution_count": 7,
   "metadata": {},
   "outputs": [
    {
     "data": {
      "text/plain": [
       "{'All items',\n",
       " 'All items less food and energy',\n",
       " 'Apparel',\n",
       " 'Commodities less food and energy commodities',\n",
       " 'Educational books and supplies',\n",
       " 'Electricity',\n",
       " 'Energy',\n",
       " 'Energy services',\n",
       " 'Food',\n",
       " 'Food at home',\n",
       " 'Food away from home',\n",
       " 'Fuel oil and other fuels',\n",
       " 'Gasoline (all types)',\n",
       " 'Medical care',\n",
       " 'Medical care commodities',\n",
       " 'New vehicles',\n",
       " \"Owners' equivalent rent of residences\",\n",
       " 'Rent of primary residence',\n",
       " 'Services less energy services',\n",
       " 'Tuition, other school fees, and childcare',\n",
       " 'Used cars and trucks',\n",
       " 'Utility (piped) gas service'}"
      ]
     },
     "execution_count": 7,
     "metadata": {},
     "output_type": "execute_result"
    }
   ],
   "source": [
    "set(long_df[\"cpi_series\"].tolist())"
   ]
  },
  {
   "cell_type": "code",
   "execution_count": 9,
   "metadata": {},
   "outputs": [
    {
     "data": {
      "text/html": [
       "<pre style=\"white-space:pre;overflow-x:auto;line-height:normal;font-family:Menlo,'DejaVu Sans Mono',consolas,'Courier New',monospace\"><span style=\"color: #800080; text-decoration-color: #800080; font-weight: bold\">SeriesInfo</span><span style=\"font-weight: bold\">(</span>\n",
       "    <span style=\"color: #808000; text-decoration-color: #808000\">id</span>=<span style=\"color: #008000; text-decoration-color: #008000\">'CPIAUCSL'</span>,\n",
       "    <span style=\"color: #808000; text-decoration-color: #808000\">realtime_start</span>=<span style=\"color: #008000; text-decoration-color: #008000\">'2022-10-30'</span>,\n",
       "    <span style=\"color: #808000; text-decoration-color: #808000\">realtime_end</span>=<span style=\"color: #008000; text-decoration-color: #008000\">'2022-10-30'</span>,\n",
       "    <span style=\"color: #808000; text-decoration-color: #808000\">title</span>=<span style=\"color: #008000; text-decoration-color: #008000\">'Consumer Price Index for All Urban Consumers: All Items in U.S. City Average'</span>,\n",
       "    <span style=\"color: #808000; text-decoration-color: #808000\">observation_start</span>=<span style=\"color: #008000; text-decoration-color: #008000\">'1947-01-01'</span>,\n",
       "    <span style=\"color: #808000; text-decoration-color: #808000\">observation_end</span>=<span style=\"color: #008000; text-decoration-color: #008000\">'2022-09-01'</span>,\n",
       "    <span style=\"color: #808000; text-decoration-color: #808000\">frequency</span>=<span style=\"color: #008000; text-decoration-color: #008000\">'Monthly'</span>,\n",
       "    <span style=\"color: #808000; text-decoration-color: #808000\">frequency_short</span>=<span style=\"color: #008000; text-decoration-color: #008000\">'M'</span>,\n",
       "    <span style=\"color: #808000; text-decoration-color: #808000\">units</span>=<span style=\"color: #008000; text-decoration-color: #008000\">'Index 1982-1984=100'</span>,\n",
       "    <span style=\"color: #808000; text-decoration-color: #808000\">units_short</span>=<span style=\"color: #008000; text-decoration-color: #008000\">'Index 1982-1984=100'</span>,\n",
       "    <span style=\"color: #808000; text-decoration-color: #808000\">seasonal_adjustment</span>=<span style=\"color: #008000; text-decoration-color: #008000\">'Seasonally Adjusted'</span>,\n",
       "    <span style=\"color: #808000; text-decoration-color: #808000\">seasonal_adjustment_short</span>=<span style=\"color: #008000; text-decoration-color: #008000\">'SA'</span>,\n",
       "    <span style=\"color: #808000; text-decoration-color: #808000\">last_updated</span>=<span style=\"color: #008000; text-decoration-color: #008000\">'2022-10-13 07:37:02-05'</span>,\n",
       "    <span style=\"color: #808000; text-decoration-color: #808000\">popularity</span>=<span style=\"color: #008080; text-decoration-color: #008080; font-weight: bold\">95</span>,\n",
       "    <span style=\"color: #808000; text-decoration-color: #808000\">notes</span>=<span style=\"color: #008000; text-decoration-color: #008000\">'The Consumer Price Index for All Urban Consumers: All Items (CPIAUCSL) is a price index of a basket of </span>\n",
       "<span style=\"color: #008000; text-decoration-color: #008000\">goods and services paid by urban consumers. Percent changes in the price index measure the inflation rate between </span>\n",
       "<span style=\"color: #008000; text-decoration-color: #008000\">any two time periods. The most common inflation metric is the percent change from one year ago. It can also </span>\n",
       "<span style=\"color: #008000; text-decoration-color: #008000\">represent the buying habits of urban consumers. This particular index includes roughly 88 percent of the total </span>\n",
       "<span style=\"color: #008000; text-decoration-color: #008000\">population, accounting for wage earners, clerical workers, technical workers, self-employed, short-term workers, </span>\n",
       "<span style=\"color: #008000; text-decoration-color: #008000\">unemployed, retirees, and those not in the labor force.\\r\\n\\r\\nThe CPIs are based on prices for food, clothing, </span>\n",
       "<span style=\"color: #008000; text-decoration-color: #008000\">shelter, and fuels; transportation fares; service fees (e.g., water and sewer service); and sales taxes. Prices are</span>\n",
       "<span style=\"color: #008000; text-decoration-color: #008000\">collected monthly from about 4,000 housing units and approximately 26,000 retail establishments across 87 urban </span>\n",
       "<span style=\"color: #008000; text-decoration-color: #008000\">areas. To calculate the index, price changes are averaged with weights representing their importance in the </span>\n",
       "<span style=\"color: #008000; text-decoration-color: #008000\">spending of the particular group. The index measures price changes (as a percent change) from a predetermined </span>\n",
       "<span style=\"color: #008000; text-decoration-color: #008000\">reference date. In addition to the original unadjusted index distributed, the Bureau of Labor Statistics also </span>\n",
       "<span style=\"color: #008000; text-decoration-color: #008000\">releases a seasonally adjusted index. The unadjusted series reflects all factors that may influence a change in </span>\n",
       "<span style=\"color: #008000; text-decoration-color: #008000\">prices. However, it can be very useful to look at the seasonally adjusted CPI, which removes the effects of </span>\n",
       "<span style=\"color: #008000; text-decoration-color: #008000\">seasonal changes, such as weather, school year, production cycles, and holidays.\\r\\n\\r\\nThe CPI can be used to </span>\n",
       "<span style=\"color: #008000; text-decoration-color: #008000\">recognize periods of inflation and deflation. Significant increases in the CPI within a short time frame might </span>\n",
       "<span style=\"color: #008000; text-decoration-color: #008000\">indicate a period of inflation, and significant decreases in CPI within a short time frame might indicate a period </span>\n",
       "<span style=\"color: #008000; text-decoration-color: #008000\">of deflation. However, because the CPI includes volatile food and oil prices, it might not be a reliable measure of</span>\n",
       "<span style=\"color: #008000; text-decoration-color: #008000\">inflationary and deflationary periods. For a more accurate detection, the core CPI (CPILFESL </span>\n",
       "<span style=\"color: #008000; text-decoration-color: #008000\">(https://fred.stlouisfed.org/series/CPILFESL)) is often used. When using the CPI, please note that it is not </span>\n",
       "<span style=\"color: #008000; text-decoration-color: #008000\">applicable to all consumers and should not be used to determine relative living costs. Additionally, the CPI is a </span>\n",
       "<span style=\"color: #008000; text-decoration-color: #008000\">statistical measure vulnerable to sampling error since it is based on a sample of prices and not the complete </span>\n",
       "<span style=\"color: #008000; text-decoration-color: #008000\">average.\\r\\n\\r\\nFor more information on the consumer price indexes, see:  \\r\\nBureau of Economic Analysis. \"CPI </span>\n",
       "<span style=\"color: #008000; text-decoration-color: #008000\">Detailed Report.\" (https://www.bls.gov/cpi/) 2013.  \\r\\nHandbook of Methods </span>\n",
       "<span style=\"color: #008000; text-decoration-color: #008000\">(https://www.bls.gov/opub/hom/pdf/cpihom.pdf)  \\r\\nUnderstanding the CPI: Frequently Asked Questions </span>\n",
       "<span style=\"color: #008000; text-decoration-color: #008000\">(https://www.bls.gov/cpi/questions-and-answers.htm)'</span>\n",
       "<span style=\"font-weight: bold\">)</span>\n",
       "</pre>\n"
      ],
      "text/plain": [
       "\u001b[1;35mSeriesInfo\u001b[0m\u001b[1m(\u001b[0m\n",
       "    \u001b[33mid\u001b[0m=\u001b[32m'CPIAUCSL'\u001b[0m,\n",
       "    \u001b[33mrealtime_start\u001b[0m=\u001b[32m'2022-10-30'\u001b[0m,\n",
       "    \u001b[33mrealtime_end\u001b[0m=\u001b[32m'2022-10-30'\u001b[0m,\n",
       "    \u001b[33mtitle\u001b[0m=\u001b[32m'Consumer Price Index for All Urban Consumers: All Items in U.S. City Average'\u001b[0m,\n",
       "    \u001b[33mobservation_start\u001b[0m=\u001b[32m'1947-01-01'\u001b[0m,\n",
       "    \u001b[33mobservation_end\u001b[0m=\u001b[32m'2022-09-01'\u001b[0m,\n",
       "    \u001b[33mfrequency\u001b[0m=\u001b[32m'Monthly'\u001b[0m,\n",
       "    \u001b[33mfrequency_short\u001b[0m=\u001b[32m'M'\u001b[0m,\n",
       "    \u001b[33munits\u001b[0m=\u001b[32m'Index 1982-\u001b[0m\u001b[32m1984\u001b[0m\u001b[32m=\u001b[0m\u001b[32m100\u001b[0m\u001b[32m'\u001b[0m,\n",
       "    \u001b[33munits_short\u001b[0m=\u001b[32m'Index 1982-\u001b[0m\u001b[32m1984\u001b[0m\u001b[32m=\u001b[0m\u001b[32m100\u001b[0m\u001b[32m'\u001b[0m,\n",
       "    \u001b[33mseasonal_adjustment\u001b[0m=\u001b[32m'Seasonally Adjusted'\u001b[0m,\n",
       "    \u001b[33mseasonal_adjustment_short\u001b[0m=\u001b[32m'SA'\u001b[0m,\n",
       "    \u001b[33mlast_updated\u001b[0m=\u001b[32m'2022-10-13 07:37:02-05'\u001b[0m,\n",
       "    \u001b[33mpopularity\u001b[0m=\u001b[1;36m95\u001b[0m,\n",
       "    \u001b[33mnotes\u001b[0m=\u001b[32m'The Consumer Price Index for All Urban Consumers: All Items \u001b[0m\u001b[32m(\u001b[0m\u001b[32mCPIAUCSL\u001b[0m\u001b[32m)\u001b[0m\u001b[32m is a price index of a basket of \u001b[0m\n",
       "\u001b[32mgoods and services paid by urban consumers. Percent changes in the price index measure the inflation rate between \u001b[0m\n",
       "\u001b[32many two time periods. The most common inflation metric is the percent change from one year ago. It can also \u001b[0m\n",
       "\u001b[32mrepresent the buying habits of urban consumers. This particular index includes roughly 88 percent of the total \u001b[0m\n",
       "\u001b[32mpopulation, accounting for wage earners, clerical workers, technical workers, self-employed, short-term workers, \u001b[0m\n",
       "\u001b[32munemployed, retirees, and those not in the labor force.\\r\\n\\r\\nThe CPIs are based on prices for food, clothing, \u001b[0m\n",
       "\u001b[32mshelter, and fuels; transportation fares; service fees \u001b[0m\u001b[32m(\u001b[0m\u001b[32me.g., water and sewer service\u001b[0m\u001b[32m)\u001b[0m\u001b[32m; and sales taxes. Prices are\u001b[0m\n",
       "\u001b[32mcollected monthly from about 4,000 housing units and approximately 26,000 retail establishments across 87 urban \u001b[0m\n",
       "\u001b[32mareas. To calculate the index, price changes are averaged with weights representing their importance in the \u001b[0m\n",
       "\u001b[32mspending of the particular group. The index measures price changes \u001b[0m\u001b[32m(\u001b[0m\u001b[32mas a percent change\u001b[0m\u001b[32m)\u001b[0m\u001b[32m from a predetermined \u001b[0m\n",
       "\u001b[32mreference date. In addition to the original unadjusted index distributed, the Bureau of Labor Statistics also \u001b[0m\n",
       "\u001b[32mreleases a seasonally adjusted index. The unadjusted series reflects all factors that may influence a change in \u001b[0m\n",
       "\u001b[32mprices. However, it can be very useful to look at the seasonally adjusted CPI, which removes the effects of \u001b[0m\n",
       "\u001b[32mseasonal changes, such as weather, school year, production cycles, and holidays.\\r\\n\\r\\nThe CPI can be used to \u001b[0m\n",
       "\u001b[32mrecognize periods of inflation and deflation. Significant increases in the CPI within a short time frame might \u001b[0m\n",
       "\u001b[32mindicate a period of inflation, and significant decreases in CPI within a short time frame might indicate a period \u001b[0m\n",
       "\u001b[32mof deflation. However, because the CPI includes volatile food and oil prices, it might not be a reliable measure of\u001b[0m\n",
       "\u001b[32minflationary and deflationary periods. For a more accurate detection, the core CPI \u001b[0m\u001b[32m(\u001b[0m\u001b[32mCPILFESL \u001b[0m\n",
       "\u001b[32m(\u001b[0m\u001b[32mhttps://fred.stlouisfed.org/series/CPILFESL\u001b[0m\u001b[32m)\u001b[0m\u001b[32m)\u001b[0m\u001b[32m is often used. When using the CPI, please note that it is not \u001b[0m\n",
       "\u001b[32mapplicable to all consumers and should not be used to determine relative living costs. Additionally, the CPI is a \u001b[0m\n",
       "\u001b[32mstatistical measure vulnerable to sampling error since it is based on a sample of prices and not the complete \u001b[0m\n",
       "\u001b[32maverage.\\r\\n\\r\\nFor more information on the consumer price indexes, see:  \\r\\nBureau of Economic Analysis. \"CPI \u001b[0m\n",
       "\u001b[32mDetailed Report.\" \u001b[0m\u001b[32m(\u001b[0m\u001b[32mhttps://www.bls.gov/cpi/\u001b[0m\u001b[32m)\u001b[0m\u001b[32m 2013.  \\r\\nHandbook of Methods \u001b[0m\n",
       "\u001b[32m(\u001b[0m\u001b[32mhttps://www.bls.gov/opub/hom/pdf/cpihom.pdf\u001b[0m\u001b[32m)\u001b[0m\u001b[32m  \\r\\nUnderstanding the CPI: Frequently Asked Questions \u001b[0m\n",
       "\u001b[32m(\u001b[0m\u001b[32mhttps://www.bls.gov/cpi/questions-and-answers.htm\u001b[0m\u001b[32m)\u001b[0m\u001b[32m'\u001b[0m\n",
       "\u001b[1m)\u001b[0m\n"
      ]
     },
     "metadata": {},
     "output_type": "display_data"
    }
   ],
   "source": [
    "rprint(cpi_sc.CPIAUCSL.info)"
   ]
  },
  {
   "cell_type": "code",
   "execution_count": null,
   "metadata": {},
   "outputs": [],
   "source": []
  },
  {
   "cell_type": "code",
   "execution_count": null,
   "metadata": {},
   "outputs": [],
   "source": []
  },
  {
   "cell_type": "code",
   "execution_count": null,
   "metadata": {},
   "outputs": [],
   "source": []
  }
 ],
 "metadata": {
  "kernelspec": {
   "display_name": "Python 3 (ipykernel)",
   "language": "python",
   "name": "python3"
  },
  "language_info": {
   "codemirror_mode": {
    "name": "ipython",
    "version": 3
   },
   "file_extension": ".py",
   "mimetype": "text/x-python",
   "name": "python",
   "nbconvert_exporter": "python",
   "pygments_lexer": "ipython3",
   "version": "3.10.1"
  },
  "vscode": {
   "interpreter": {
    "hash": "cb79162d6e720e36d8b3ab534f5f77bf38119ff352ed90afcce00261d1717319"
   }
  }
 },
 "nbformat": 4,
 "nbformat_minor": 4
}

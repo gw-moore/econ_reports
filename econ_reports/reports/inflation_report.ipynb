{
 "cells": [
  {
   "cell_type": "markdown",
   "id": "17ac9c4a-b549-4a78-8d46-039523fdc6b0",
   "metadata": {},
   "source": [
    "# Inflation Report"
   ]
  },
  {
   "cell_type": "code",
   "execution_count": null,
   "id": "bebfbbaf-44ef-45a7-9801-eeb05fea3269",
   "metadata": {},
   "outputs": [],
   "source": [
    "import datetime\n",
    "from dateutil.relativedelta import relativedelta\n",
    "from pyfredapi import FredSeries\n",
    "from rich import print as rprint\n",
    "import pandas as pd\n",
    "import plotly.express as px"
   ]
  },
  {
   "cell_type": "code",
   "execution_count": null,
   "id": "86f1e726-8719-42e0-a7b4-a1342347258f",
   "metadata": {
    "tags": [
     "parameters"
    ]
   },
   "outputs": [],
   "source": [
    "# papermill parameters cell\n",
    "as_of = datetime.date.today()"
   ]
  },
  {
   "cell_type": "code",
   "execution_count": null,
   "id": "c020c0e3-8d4f-4a81-944e-aaab4f53e529",
   "metadata": {},
   "outputs": [],
   "source": [
    "print(f\"Report Date: {as_of}\")"
   ]
  },
  {
   "cell_type": "markdown",
   "id": "5af13426-42f2-46b5-b610-2907511b633b",
   "metadata": {},
   "source": [
    "### Collect data"
   ]
  },
  {
   "cell_type": "code",
   "execution_count": null,
   "id": "d4e03c11-c25f-4f45-9199-6ae71748adb8",
   "metadata": {},
   "outputs": [],
   "source": [
    "client = FredSeries()"
   ]
  },
  {
   "cell_type": "code",
   "execution_count": null,
   "id": "37f1516b-760d-4a96-8540-67822a334456",
   "metadata": {},
   "outputs": [],
   "source": [
    "series = [\n",
    "    \"CPIAUCSL\",\n",
    "    \"CPILFESL\",\n",
    "    \"CUSR0000SETA02\",\n",
    "    \"CUSR0000SETA01\",\n",
    "    \"CUSR0000SEHA\",\n",
    "    \"CUSR0000SEHC\",\n",
    "    \"CPIMEDSL\",\n",
    "    \"CUSR0000SAF11\",\n",
    "    \"CUSR0000SEFV\",\n",
    "    \"CUSR0000SAE1\",\n",
    "    \"CUSR0000SEEA\",\n",
    "    \"CUSR0000SEEB\",\n",
    "    \"CPIAPPSL\",\n",
    "]"
   ]
  },
  {
   "cell_type": "code",
   "execution_count": null,
   "id": "8e64fadd-c442-47db-b1fc-f91cef508ede",
   "metadata": {},
   "outputs": [],
   "source": [
    "responses = {}\n",
    "dfs = {}\n",
    "\n",
    "for s in series:\n",
    "    print(f\"Requesting series {s}...\")\n",
    "    response = client.get_series(series_id=s)\n",
    "    responses[s] = response\n",
    "    df = responses[s].data\n",
    "    column_name = (\n",
    "        response.info.title.lower()\n",
    "        .replace(\"consumer price index for all urban consumers: \", \"\")\n",
    "        .replace(\" in u.s. city average\", \"\")\n",
    "        .replace(\"'\", \"\")\n",
    "        .replace(\" \", \"_\")\n",
    "    )\n",
    "    df = df.rename(columns={\"value\": column_name})\n",
    "    df = df.drop([\"realtime_start\", \"realtime_end\"], axis=1)\n",
    "    dfs[s] = df.set_index(\"date\")\n",
    "\n",
    "combined_df = pd.concat(dfs.values(), axis=1)\n",
    "combined_df = combined_df.loc[:as_of]"
   ]
  },
  {
   "cell_type": "markdown",
   "id": "038752a6",
   "metadata": {},
   "source": [
    "## Calculate percent change"
   ]
  },
  {
   "cell_type": "code",
   "execution_count": null,
   "id": "b7ed1a00-b2dd-4f2e-891e-94579925b81e",
   "metadata": {},
   "outputs": [],
   "source": [
    "lags = [1, 3, 6, 12, 18, 24, 36, 48, 60]\n",
    "pct_chg_dfs = []\n",
    "\n",
    "# calculate the pct change for each lag\n",
    "for lag in lags:\n",
    "    pct_chg_df = round(combined_df.pct_change(lag).iloc[[-1]] * 100, 4)\n",
    "\n",
    "    # set the index to the lag\n",
    "    pct_chg_df.index = [f\"{lag} Month\"]\n",
    "\n",
    "    # append the df to pct_chg_dfs\n",
    "    pct_chg_dfs.append(pct_chg_df)\n",
    "\n",
    "# pd.concat dfs together\n",
    "output = pd.concat(pct_chg_dfs)"
   ]
  },
  {
   "cell_type": "code",
   "execution_count": null,
   "id": "4f18b939",
   "metadata": {},
   "outputs": [],
   "source": [
    "rprint(f\"Table for percent changes in CPI series as-of {as_of}\")\n",
    "display(output)"
   ]
  },
  {
   "cell_type": "markdown",
   "id": "5c3ac25b",
   "metadata": {},
   "source": [
    "## Visualize change in CPI series over past 5 years"
   ]
  },
  {
   "cell_type": "code",
   "execution_count": null,
   "id": "3c800055",
   "metadata": {},
   "outputs": [],
   "source": [
    "viz_df = pd.melt(\n",
    "    combined_df.reset_index(), id_vars=\"date\", value_vars=list(combined_df.columns)\n",
    ")\n",
    "viz_df = viz_df.rename({\"value\": \"CPI\", \"variable\": \"cpi_series\"}, axis=1)\n",
    "\n",
    "min_date = viz_df[[\"date\"]].min().date.date()\n",
    "max_date = viz_df[[\"date\"]].max().date.date()\n",
    "\n",
    "px.line(\n",
    "    data_frame=viz_df,\n",
    "    x=\"date\",\n",
    "    y=\"CPI\",\n",
    "    color=\"cpi_series\",\n",
    "    title=f\"Change in CPI: {min_date} - {max_date}\",\n",
    ")"
   ]
  }
 ],
 "metadata": {
  "kernelspec": {
   "display_name": "Python 3 (ipykernel)",
   "language": "python",
   "name": "python3"
  },
  "language_info": {
   "codemirror_mode": {
    "name": "ipython",
    "version": 3
   },
   "file_extension": ".py",
   "mimetype": "text/x-python",
   "name": "python",
   "nbconvert_exporter": "python",
   "pygments_lexer": "ipython3",
   "version": "3.10.1"
  },
  "vscode": {
   "interpreter": {
    "hash": "afb2806f959703ab07c6ab31836f463763a6ffaa10ed8c8d2ede2a1873d7d500"
   }
  }
 },
 "nbformat": 4,
 "nbformat_minor": 5
}

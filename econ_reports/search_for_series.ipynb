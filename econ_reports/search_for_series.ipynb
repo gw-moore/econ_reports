{
 "cells": [
  {
   "cell_type": "code",
   "execution_count": 1,
   "metadata": {},
   "outputs": [],
   "source": [
    "from pyfredapi import FredSeries"
   ]
  },
  {
   "cell_type": "code",
   "execution_count": 2,
   "metadata": {},
   "outputs": [],
   "source": [
    "client = FredSeries()"
   ]
  },
  {
   "cell_type": "code",
   "execution_count": 16,
   "metadata": {},
   "outputs": [
    {
     "data": {
      "text/plain": [
       "{'realtime_start': '2022-10-12',\n",
       " 'realtime_end': '2022-10-12',\n",
       " 'filter_variable': 'seasonal_adjustment',\n",
       " 'filter_value': 'Seasonally Adjusted',\n",
       " 'order_by': 'search_rank',\n",
       " 'sort_order': 'desc',\n",
       " 'count': 1,\n",
       " 'offset': 0,\n",
       " 'limit': 1000,\n",
       " 'seriess': [{'id': 'ATNHPIUS16020Q',\n",
       "   'realtime_start': '2022-10-12',\n",
       "   'realtime_end': '2022-10-12',\n",
       "   'title': 'All-Transactions House Price Index for Cape Girardeau, MO-IL (MSA)',\n",
       "   'observation_start': '1987-04-01',\n",
       "   'observation_end': '2022-04-01',\n",
       "   'frequency': 'Quarterly',\n",
       "   'frequency_short': 'Q',\n",
       "   'units': 'Index 1995:Q1=100',\n",
       "   'units_short': 'Index 1995 Q1=100',\n",
       "   'seasonal_adjustment': 'Seasonally Adjusted',\n",
       "   'seasonal_adjustment_short': 'SA',\n",
       "   'last_updated': '2022-08-30 09:03:37-05',\n",
       "   'popularity': 1,\n",
       "   'group_popularity': 1,\n",
       "   'notes': 'Estimated using sales prices and appraisal data.'}]}"
      ]
     },
     "execution_count": 16,
     "metadata": {},
     "output_type": "execute_result"
    }
   ],
   "source": [
    "client.search_series(\n",
    "    \"All-Transactions House Price Index\",\n",
    "    return_format=\"json\",\n",
    "    **{\"filter_variable\": \"seasonal_adjustment\", \"filter_value\": \"Seasonally Adjusted\"}\n",
    ")"
   ]
  }
 ],
 "metadata": {
  "kernelspec": {
   "display_name": "Python 3.10.1 ('econ-reports-8rzxejf3-py3.10')",
   "language": "python",
   "name": "python3"
  },
  "language_info": {
   "codemirror_mode": {
    "name": "ipython",
    "version": 3
   },
   "file_extension": ".py",
   "mimetype": "text/x-python",
   "name": "python",
   "nbconvert_exporter": "python",
   "pygments_lexer": "ipython3",
   "version": "3.10.1"
  },
  "orig_nbformat": 4,
  "vscode": {
   "interpreter": {
    "hash": "afb2806f959703ab07c6ab31836f463763a6ffaa10ed8c8d2ede2a1873d7d500"
   }
  }
 },
 "nbformat": 4,
 "nbformat_minor": 2
}

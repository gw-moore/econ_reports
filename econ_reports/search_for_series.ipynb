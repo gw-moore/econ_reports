{
 "cells": [
  {
   "cell_type": "code",
   "execution_count": null,
   "metadata": {},
   "outputs": [],
   "source": [
    "from pyfredapi import FredSeries"
   ]
  },
  {
   "cell_type": "code",
   "execution_count": null,
   "metadata": {},
   "outputs": [],
   "source": [
    "client = FredSeries()"
   ]
  },
  {
   "cell_type": "code",
   "execution_count": null,
   "metadata": {},
   "outputs": [],
   "source": [
    "client.search_series(\n",
    "    \"All-Transactions House Price Index\",\n",
    "    return_format=\"json\",\n",
    "    **{\"filter_variable\": \"seasonal_adjustment\", \"filter_value\": \"Seasonally Adjusted\"}\n",
    ")"
   ]
  }
 ],
 "metadata": {
  "kernelspec": {
   "display_name": "Python 3.10.1 ('econ-reports-8rzxejf3-py3.10')",
   "language": "python",
   "name": "python3"
  },
  "language_info": {
   "codemirror_mode": {
    "name": "ipython",
    "version": 3
   },
   "file_extension": ".py",
   "mimetype": "text/x-python",
   "name": "python",
   "nbconvert_exporter": "python",
   "pygments_lexer": "ipython3",
   "version": "3.10.1"
  },
  "vscode": {
   "interpreter": {
    "hash": "afb2806f959703ab07c6ab31836f463763a6ffaa10ed8c8d2ede2a1873d7d500"
   }
  }
 },
 "nbformat": 4,
 "nbformat_minor": 2
}

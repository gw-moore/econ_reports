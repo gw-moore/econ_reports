{
 "cells": [
  {
   "cell_type": "markdown",
   "metadata": {},
   "source": [
    "## Home Prices Report\n",
    "\n",
    "This notebook analyzes home price data."
   ]
  },
  {
   "cell_type": "code",
   "execution_count": null,
   "metadata": {},
   "outputs": [],
   "source": [
    "import datetime\n",
    "from dateutil.relativedelta import relativedelta\n",
    "from pyfredapi import FredSeries\n",
    "from rich import print as rprint\n",
    "import pandas as pd\n",
    "import plotly.express as px\n",
    "from utils.state_abb import state_abb\n",
    "from utils.pandas_utils import get_dates, calc_pct_chg, display_pct_chg_df\n",
    "from utils.pyfredapi import SeriesCollection"
   ]
  },
  {
   "cell_type": "code",
   "execution_count": null,
   "metadata": {},
   "outputs": [],
   "source": [
    "client = FredSeries()"
   ]
  },
  {
   "cell_type": "code",
   "execution_count": null,
   "metadata": {},
   "outputs": [],
   "source": [
    "state_home_price_index_series = [f\"{abb}STHPI\" for abb in state_abb.values()]\n",
    "\n",
    "case_shiller_series = [\n",
    "    \"CSUSHPISA\",\n",
    "    \"SPCS20RSA\",\n",
    "    \"SFXRSA\",\n",
    "    \"LXXRSA\",\n",
    "    \"SDXRSA\",\n",
    "    \"NYXRSA\",\n",
    "    \"CHXRSA\",\n",
    "    \"SEXRSA\",\n",
    "    \"BOXRSA\",\n",
    "    \"PHXRSA\",\n",
    "    \"MIXRSA\",\n",
    "    \"DNXRSA\",\n",
    "    \"DAXRSA\",\n",
    "    \"WDXRSA\",\n",
    "    \"ATXRSA\",\n",
    "    \"LVXRSA\",\n",
    "    \"POXRSA\",\n",
    "    \"TPXRSA\",\n",
    "    \"CRXRSA\",\n",
    "    \"MNXRSA\",\n",
    "    \"DEXRSA\",\n",
    "    \"CEXRSA\",\n",
    "]\n",
    "\n",
    "housing_starts_series = [\"HOUST\", \"HOUST1F\", \"HOUST2F\", \"HOUST5F\"]\n",
    "housing_sale_price_series = [\"MSPUS\", \"MSPNHSUS\"]\n",
    "house_supply_series = [\"MSACSRNSA\"]\n",
    "mortgage_rate_series = [\"MORTGAGE30US\", \"MORTGAGE15US\"]\n",
    "bond_yield_series = [\"WGS10YR\", \"WGS20YR\", \"WGS30YR\"]\n",
    "fed_mbs_series = [\"WSHOMCB\"]\n",
    "home_ownership_rates_series = [\"RHORUSQ156N\"]\n",
    "median_hh_income_series = [\"MEHOINUSA672N\"]\n",
    "mortgage_debt_as_perc_of_income_series = [\"MDSP\"]\n",
    "\n",
    "# Calculate the spread on the 30-year mortgage and the 10-year yield"
   ]
  },
  {
   "cell_type": "code",
   "execution_count": null,
   "metadata": {},
   "outputs": [],
   "source": [
    "home_sale_price_sc = SeriesCollection(client=client, series=state_home_price_index_series)"
   ]
  },
  {
   "cell_type": "code",
   "execution_count": null,
   "metadata": {},
   "outputs": [],
   "source": [
    "case_shiller_sc = SeriesCollection(client=client, series=case_shiller_series)"
   ]
  },
  {
   "cell_type": "code",
   "execution_count": null,
   "metadata": {},
   "outputs": [],
   "source": [
    "housing_starts_series_sc = SeriesCollection(client=client, series=housing_starts_series)"
   ]
  },
  {
   "cell_type": "code",
   "execution_count": null,
   "metadata": {
    "tags": []
   },
   "outputs": [],
   "source": [
    "rates_sc = SeriesCollection(client=client, series=mortgage_rate_series + bond_yield_series + fed_mbs_series)"
   ]
  },
  {
   "cell_type": "code",
   "execution_count": null,
   "metadata": {},
   "outputs": [],
   "source": [
    "home_sale_price_sc.show_seasonality()"
   ]
  },
  {
   "cell_type": "code",
   "execution_count": null,
   "metadata": {},
   "outputs": [],
   "source": [
    "rates_sc.show_frequency()"
   ]
  },
  {
   "cell_type": "code",
   "execution_count": null,
   "metadata": {},
   "outputs": [],
   "source": [
    "rates_sc.show_observation_end()"
   ]
  },
  {
   "cell_type": "code",
   "execution_count": null,
   "metadata": {},
   "outputs": [],
   "source": [
    "home_sale_price_response = {s: client.get_series(s) for s in housing_starts_series}"
   ]
  },
  {
   "cell_type": "code",
   "execution_count": null,
   "metadata": {},
   "outputs": [],
   "source": [
    "home_sale_price_response[\"HOUST\"].info.units"
   ]
  },
  {
   "cell_type": "code",
   "execution_count": null,
   "metadata": {},
   "outputs": [],
   "source": [
    "home_sale_price_response[\"HOUST\"].data"
   ]
  },
  {
   "cell_type": "code",
   "execution_count": null,
   "metadata": {},
   "outputs": [],
   "source": [
    "housing_sale_price_series_response = {\n",
    "    s: client.get_series(s) for s in housing_sale_price_series\n",
    "}"
   ]
  },
  {
   "cell_type": "code",
   "execution_count": null,
   "metadata": {},
   "outputs": [],
   "source": [
    "housing_sale_price_series_response[\"MSPUS\"].info.title"
   ]
  },
  {
   "cell_type": "code",
   "execution_count": null,
   "metadata": {},
   "outputs": [],
   "source": [
    "mortgage_rate_series_responses = {s: client.get_series(s) for s in mortgage_rate_series}"
   ]
  },
  {
   "cell_type": "code",
   "execution_count": null,
   "metadata": {},
   "outputs": [],
   "source": [
    "mortgage_rate_series_responses[\"MORTGAGE30US\"].data.dtypes"
   ]
  },
  {
   "cell_type": "markdown",
   "metadata": {},
   "source": [
    "## Collect home price data"
   ]
  },
  {
   "cell_type": "code",
   "execution_count": null,
   "metadata": {},
   "outputs": [],
   "source": []
  },
  {
   "cell_type": "code",
   "execution_count": null,
   "metadata": {},
   "outputs": [],
   "source": []
  },
  {
   "cell_type": "code",
   "execution_count": null,
   "metadata": {},
   "outputs": [],
   "source": []
  },
  {
   "cell_type": "markdown",
   "metadata": {},
   "source": [
    "# Median Sale Price"
   ]
  },
  {
   "cell_type": "code",
   "execution_count": null,
   "metadata": {},
   "outputs": [],
   "source": []
  },
  {
   "cell_type": "markdown",
   "metadata": {},
   "source": [
    "# Housing Starts"
   ]
  },
  {
   "cell_type": "code",
   "execution_count": null,
   "metadata": {},
   "outputs": [],
   "source": [
    "housing_starts_response = {s: client.get_series(s) for s in housing_starts_series}"
   ]
  },
  {
   "cell_type": "code",
   "execution_count": null,
   "metadata": {},
   "outputs": [],
   "source": []
  },
  {
   "cell_type": "code",
   "execution_count": null,
   "metadata": {},
   "outputs": [],
   "source": []
  },
  {
   "cell_type": "code",
   "execution_count": null,
   "metadata": {},
   "outputs": [],
   "source": []
  },
  {
   "cell_type": "markdown",
   "metadata": {},
   "source": [
    "# State House Price Index"
   ]
  },
  {
   "cell_type": "code",
   "execution_count": null,
   "metadata": {},
   "outputs": [],
   "source": [
    "state_hp_responses = {s: client.get_series(s) for s in state_home_price_index_series}"
   ]
  },
  {
   "cell_type": "markdown",
   "metadata": {},
   "source": [
    "### Munge the data"
   ]
  },
  {
   "cell_type": "code",
   "execution_count": null,
   "metadata": {},
   "outputs": [],
   "source": [
    "state_hp_dfs = []\n",
    "state_hp_wide_dfs = []\n",
    "\n",
    "for s in state_home_price_index_series:\n",
    "    state_name = state_hp_responses[s].info.title.replace(\n",
    "        \"All-Transactions House Price Index for \", \"\"\n",
    "    )\n",
    "\n",
    "    df = (\n",
    "        state_hp_responses[s]\n",
    "        .data.drop([\"realtime_start\", \"realtime_end\"], axis=1)\n",
    "        .copy()\n",
    "    )\n",
    "    df[\"state\"] = state_name\n",
    "    state_hp_dfs.append(df)\n",
    "\n",
    "    wide_df = (\n",
    "        state_hp_responses[s]\n",
    "        .data.drop([\"realtime_start\", \"realtime_end\"], axis=1)\n",
    "        .copy()\n",
    "    )\n",
    "    wide_df = wide_df.rename(columns={\"value\": state_name}).set_index(\"date\")\n",
    "    state_hp_wide_dfs.append(wide_df)\n",
    "\n",
    "state_hp_df = pd.concat(state_hp_dfs, axis=0)\n",
    "state_hp_wide_df = pd.concat(state_hp_wide_dfs, axis=1)"
   ]
  },
  {
   "cell_type": "code",
   "execution_count": null,
   "metadata": {},
   "outputs": [],
   "source": [
    "state_hp_dates = get_dates(state_hp_df, \"date\")\n",
    "rprint(f\"Minimum home price date: {state_hp_dates.min}\")\n",
    "rprint(f\"Maximum home price date: {state_hp_dates.max}\")"
   ]
  },
  {
   "cell_type": "markdown",
   "metadata": {},
   "source": [
    "### Percent Change Table"
   ]
  },
  {
   "cell_type": "code",
   "execution_count": null,
   "metadata": {},
   "outputs": [],
   "source": [
    "state_hp_pct_chg_df = calc_pct_chg(\n",
    "    wide_df=state_hp_wide_df.copy(),\n",
    "    lags=[1, 4, 8],\n",
    "    max_date=state_hp_dates.max,\n",
    "    grp_var=\"State\",\n",
    "    lag_var=\"Quarters Ago\",\n",
    "    title=\"State Home Price Index Percent Change from Preceding Quarter\",\n",
    ")\n",
    "\n",
    "# rprint(f\"State Home Price Index Percent Change from Preceding Quarter, {state_hp_dates.max}\")\n",
    "display(state_hp_pct_chg_df)"
   ]
  },
  {
   "cell_type": "markdown",
   "metadata": {},
   "source": [
    "### Plot"
   ]
  },
  {
   "cell_type": "code",
   "execution_count": null,
   "metadata": {},
   "outputs": [],
   "source": [
    "line_plot = px.line(\n",
    "    data_frame=state_hp_df,\n",
    "    x=\"date\",\n",
    "    y=\"value\",\n",
    "    color=\"state\",\n",
    "    title=f\"Quarterly Home Price Index by State (Index 1980:Q1=100)\",\n",
    "    labels=dict(value=\"Home Price Index\", date=\"Date\", state=\"State\"),\n",
    ")\n",
    "\n",
    "line_plot.show(renderer=\"notebook\")"
   ]
  },
  {
   "cell_type": "markdown",
   "metadata": {},
   "source": [
    "# Case/Shiller Home Price Index"
   ]
  },
  {
   "cell_type": "code",
   "execution_count": null,
   "metadata": {},
   "outputs": [],
   "source": [
    "cs_responses = {s: client.get_series(s) for s in case_shiller_series}"
   ]
  },
  {
   "cell_type": "markdown",
   "metadata": {},
   "source": [
    "### Munge the data"
   ]
  },
  {
   "cell_type": "code",
   "execution_count": null,
   "metadata": {},
   "outputs": [],
   "source": [
    "cs_dfs = []\n",
    "cs_wide_dfs = []\n",
    "\n",
    "for s in case_shiller_series:\n",
    "    series_name = (\n",
    "        cs_responses[s]\n",
    "        .info.title.replace(\"S&P/Case-Shiller \", \"\")\n",
    "        .replace(\" Home Price Index\", \"\")\n",
    "    )\n",
    "\n",
    "    df = cs_responses[s].data.drop([\"realtime_start\", \"realtime_end\"], axis=1).copy()\n",
    "\n",
    "    df[\"series\"] = series_name\n",
    "    cs_dfs.append(df)\n",
    "\n",
    "    wide_df = (\n",
    "        cs_responses[s].data.drop([\"realtime_start\", \"realtime_end\"], axis=1).copy()\n",
    "    )\n",
    "    wide_df = wide_df.rename(columns={\"value\": series_name}).set_index(\"date\")\n",
    "    cs_wide_dfs.append(wide_df)\n",
    "\n",
    "cs_df = pd.concat(cs_dfs)\n",
    "cs_wide_df = pd.concat(cs_wide_dfs, axis=1)"
   ]
  },
  {
   "cell_type": "code",
   "execution_count": null,
   "metadata": {},
   "outputs": [],
   "source": [
    "cs_dates = get_dates(cs_df, \"date\")\n",
    "rprint(f\"Minimum home price date: {cs_dates.min}\")\n",
    "rprint(f\"Maximum home price date: {cs_dates.max}\")"
   ]
  },
  {
   "cell_type": "markdown",
   "metadata": {},
   "source": [
    "### Percent Change Table"
   ]
  },
  {
   "cell_type": "code",
   "execution_count": null,
   "metadata": {},
   "outputs": [],
   "source": [
    "cs_pct_chg_df = calc_pct_chg(\n",
    "    wide_df=cs_wide_df.copy().dropna(),\n",
    "    lags=[1, 3, 6, 12, 18, 24, 36, 48, 60],\n",
    "    max_date=cs_dates.max,\n",
    "    grp_var=\"Series\",\n",
    "    lag_var=\"Months Ago\",\n",
    "    title=\"Case/Shiller Index Percent Change from Preceding Quarter\",\n",
    ")\n",
    "\n",
    "display_pct_chg_df(\n",
    "    df=cs_pct_chg_df.copy(),\n",
    "    title=\"Seasonally Adjusted CPI, Percent Change from Preceding Month\",\n",
    "    max_date=dates.max,\n",
    ")\n",
    "\n",
    "display(cs_pct_chg_df)"
   ]
  },
  {
   "cell_type": "markdown",
   "metadata": {},
   "source": [
    "### Plot"
   ]
  },
  {
   "cell_type": "code",
   "execution_count": null,
   "metadata": {},
   "outputs": [],
   "source": [
    "line_plot = px.line(\n",
    "    data_frame=cs_df.dropna(),\n",
    "    x=\"date\",\n",
    "    y=\"value\",\n",
    "    color=\"series\",\n",
    "    title=f\"Case/Shiller Home Price Index (Index Jan-2000=100)\",\n",
    "    labels=dict(value=\"CS Home Price Index\", date=\"Date\", series=\"Series\"),\n",
    ")\n",
    "\n",
    "line_plot.show(renderer=\"notebook\")"
   ]
  }
 ],
 "metadata": {
  "kernelspec": {
   "display_name": "Python 3 (ipykernel)",
   "language": "python",
   "name": "python3"
  },
  "language_info": {
   "codemirror_mode": {
    "name": "ipython",
    "version": 3
   },
   "file_extension": ".py",
   "mimetype": "text/x-python",
   "name": "python",
   "nbconvert_exporter": "python",
   "pygments_lexer": "ipython3",
   "version": "3.10.1"
  },
  "vscode": {
   "interpreter": {
    "hash": "cb79162d6e720e36d8b3ab534f5f77bf38119ff352ed90afcce00261d1717319"
   }
  }
 },
 "nbformat": 4,
 "nbformat_minor": 4
}
